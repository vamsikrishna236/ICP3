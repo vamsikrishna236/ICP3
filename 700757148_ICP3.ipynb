{
  "nbformat": 4,
  "nbformat_minor": 0,
  "metadata": {
    "colab": {
      "provenance": []
    },
    "kernelspec": {
      "name": "python3",
      "display_name": "Python 3"
    },
    "language_info": {
      "name": "python"
    }
  },
  "cells": [
    {
      "cell_type": "markdown",
      "source": [
        "\n",
        "a. Using NumPy create random vector of size 15 having only Integers in the range 1-20.\n",
        "\n",
        "1. Reshape the array to 3 by 5\n",
        "2. Print array shape.\n",
        "3. Replace the max in each row by 0\n",
        "Create a 2-dimensional array of size 4 x 3 (composed of 4-byte integer elements), also print the shape, type and data type\n",
        "of the array."
      ],
      "metadata": {
        "id": "ZZI-4RUiEkfZ"
      }
    },
    {
      "cell_type": "code",
      "source": [
        "import numpy as np\n",
        "\n",
        "# Create random vector of size 15 with integers in the range 1-20\n",
        "random_vector = np.random.randint(1, 21, size=15)\n",
        "\n",
        "# Reshape the array to 3 by 5\n",
        "reshaped_array = random_vector.reshape(3, 5)\n",
        "\n",
        "# Print array shape\n",
        "print(\"Array shape:\", reshaped_array.shape)\n",
        "\n",
        "# Replace the max in each row by 0\n",
        "reshaped_array[np.arange(len(reshaped_array)), np.argmax(reshaped_array, axis=1)] = 0\n",
        "\n",
        "print(\"Array after replacing max in each row by 0:\")\n",
        "print(reshaped_array)\n",
        "\n",
        "# Create a 2-dimensional array of size 4 x 3 with 4-byte integer elements\n",
        "array_4x3 = np.random.randint(0, 1000, size=(4, 3), dtype=np.int32)\n",
        "\n",
        "# Print shape, type, and data type of the array\n",
        "print(\"\\nShape of the array:\", array_4x3.shape)\n",
        "print(\"Type of the array:\", type(array_4x3))\n",
        "print(\"Data type of the array:\", array_4x3.dtype)\n"
      ],
      "metadata": {
        "colab": {
          "base_uri": "https://localhost:8080/"
        },
        "id": "QLh098za9zT6",
        "outputId": "6f6b587f-666a-4044-f129-f467a94919e8"
      },
      "execution_count": 1,
      "outputs": [
        {
          "output_type": "stream",
          "name": "stdout",
          "text": [
            "Array shape: (3, 5)\n",
            "Array after replacing max in each row by 0:\n",
            "[[ 0 16  8 14 14]\n",
            " [ 8  2  1  1  0]\n",
            " [ 6  9 12 15  0]]\n",
            "\n",
            "Shape of the array: (4, 3)\n",
            "Type of the array: <class 'numpy.ndarray'>\n",
            "Data type of the array: int32\n"
          ]
        }
      ]
    },
    {
      "cell_type": "markdown",
      "source": [
        "b. Write a program to compute the eigenvalues and right eigenvectors of a given square array given below:\n",
        "[[ 3 -2]\n",
        "[1 0]]"
      ],
      "metadata": {
        "id": "67EANqUY937o"
      }
    },
    {
      "cell_type": "code",
      "source": [
        "import numpy as np\n",
        "\n",
        "# Define the square array\n",
        "array = np.array([[3, -2],\n",
        "                  [1, 0]])\n",
        "\n",
        "# Compute eigenvalues and eigenvectors\n",
        "eigenvalues, eigenvectors = np.linalg.eig(array)\n",
        "\n",
        "# Print the eigenvalues and right eigenvectors\n",
        "print(\"Eigenvalues:\")\n",
        "print(eigenvalues)\n",
        "print(\"\\nRight Eigenvectors:\")\n",
        "print(eigenvectors)\n"
      ],
      "metadata": {
        "colab": {
          "base_uri": "https://localhost:8080/"
        },
        "id": "Tv7_awh9-Chm",
        "outputId": "fa97a57b-72ca-4170-eec1-5ed6bc78ee7b"
      },
      "execution_count": 5,
      "outputs": [
        {
          "output_type": "stream",
          "name": "stdout",
          "text": [
            "Eigenvalues:\n",
            "[2. 1.]\n",
            "\n",
            "Right Eigenvectors:\n",
            "[[0.89442719 0.70710678]\n",
            " [0.4472136  0.70710678]]\n"
          ]
        }
      ]
    },
    {
      "cell_type": "markdown",
      "source": [
        "\n",
        "c. Compute the sum of the diagonal element of a given array.\n",
        "[[0 1 2]\n",
        "[3 4 5]"
      ],
      "metadata": {
        "id": "K_2kNUm2-Tlf"
      }
    },
    {
      "cell_type": "code",
      "source": [
        "import numpy as np\n",
        "\n",
        "# Define the array\n",
        "array = np.array([[0, 1, 2],\n",
        "                  [3, 4, 5]])\n",
        "\n",
        "# Compute the sum of diagonal elements\n",
        "diagonal_sum = np.trace(array)\n",
        "\n",
        "# Print the sum\n",
        "print(\"Sum of diagonal elements:\", diagonal_sum)\n"
      ],
      "metadata": {
        "colab": {
          "base_uri": "https://localhost:8080/"
        },
        "id": "q6fTu2Qx-Uex",
        "outputId": "e1a0c551-560a-4476-e93b-49059eb0032c"
      },
      "execution_count": 6,
      "outputs": [
        {
          "output_type": "stream",
          "name": "stdout",
          "text": [
            "Sum of diagonal elements: 4\n"
          ]
        }
      ]
    },
    {
      "cell_type": "markdown",
      "source": [
        "d. Write a NumPy program to create a new shape to an array without changing its data.\n",
        "Reshape 3x2:\n",
        "[[1 2]\n",
        "[3 4]\n",
        "[5 6]\n",
        "Reshape 2x3:\n",
        "[[1 2 3]\n",
        "[4 5 6]]"
      ],
      "metadata": {
        "id": "v0EEi_FY-cgc"
      }
    },
    {
      "cell_type": "code",
      "source": [
        "import numpy as np\n",
        "\n",
        "# Define the arrays\n",
        "array1 = np.array([[1, 2],\n",
        "                   [3, 4],\n",
        "                   [5, 6]])\n",
        "\n",
        "array2 = np.array([[1, 2, 3],\n",
        "                   [4, 5, 6]])\n",
        "\n",
        "# Reshape array1 to 3x2\n",
        "reshaped_array1 = array1.reshape(3, 2)\n",
        "\n",
        "# Reshape array2 to 2x3\n",
        "reshaped_array2 = array2.reshape(2, 3)\n",
        "\n",
        "# Print the reshaped arrays\n",
        "print(\"Reshaped array1 (3x2):\")\n",
        "print(reshaped_array1)\n",
        "\n",
        "print(\"\\nReshaped array2 (2x3):\")\n",
        "print(reshaped_array2)\n"
      ],
      "metadata": {
        "colab": {
          "base_uri": "https://localhost:8080/"
        },
        "id": "wSZB8UTw-fc2",
        "outputId": "f9a899a2-2531-43aa-dc1a-5da3fdffac72"
      },
      "execution_count": 7,
      "outputs": [
        {
          "output_type": "stream",
          "name": "stdout",
          "text": [
            "Reshaped array1 (3x2):\n",
            "[[1 2]\n",
            " [3 4]\n",
            " [5 6]]\n",
            "\n",
            "Reshaped array2 (2x3):\n",
            "[[1 2 3]\n",
            " [4 5 6]]\n"
          ]
        }
      ]
    }
  ]
}